{
 "cells": [
  {
   "cell_type": "markdown",
   "metadata": {},
   "source": [
    "# Import necessary packages"
   ]
  },
  {
   "cell_type": "code",
   "execution_count": 78,
   "metadata": {},
   "outputs": [],
   "source": [
    "import warnings\n",
    "warnings.filterwarnings('ignore')\n",
    "from openai import OpenAI\n",
    "from pinecone import Pinecone, ServerlessSpec\n",
    "from tqdm.auto import tqdm\n",
    "from DLAIUtils import Utils\n",
    "\n",
    "import functions as func\n",
    "import ast\n",
    "import os\n",
    "import pandas as pd\n",
    "import json\n",
    "import numpy as np\n",
    "import copy\n",
    "import tqdm"
   ]
  },
  {
   "cell_type": "markdown",
   "metadata": {},
   "source": [
    "# Set up Pinecone"
   ]
  },
  {
   "cell_type": "code",
   "execution_count": 2,
   "metadata": {},
   "outputs": [],
   "source": [
    "# get api key\n",
    "utils = Utils()\n",
    "PINECONE_API_KEY = utils.get_pinecone_api_key()"
   ]
  },
  {
   "cell_type": "code",
   "execution_count": 123,
   "metadata": {},
   "outputs": [],
   "source": [
    "pinecone = Pinecone(api_key=PINECONE_API_KEY)\n",
    "\n",
    "utils = Utils()\n",
    "INDEX_NAME = utils.create_dlai_index_name('vc')\n",
    "if INDEX_NAME in [index.name for index in pinecone.list_indexes()]:\n",
    "  index = pinecone.Index(INDEX_NAME)\n",
    "\n",
    "else:\n",
    "  pinecone.create_index(name=INDEX_NAME, dimension=1536, metric='cosine',\n",
    "    spec=ServerlessSpec(cloud='aws', region='us-east-1'))\n",
    "  index = pinecone.Index(INDEX_NAME)"
   ]
  },
  {
   "cell_type": "markdown",
   "metadata": {},
   "source": [
    "# Gather VC's info"
   ]
  },
  {
   "cell_type": "code",
   "execution_count": 4,
   "metadata": {},
   "outputs": [],
   "source": [
    "OPENAI_API_KEY = utils.get_openai_api_key()\n",
    "openai_client = OpenAI(api_key=OPENAI_API_KEY)"
   ]
  },
  {
   "cell_type": "code",
   "execution_count": 16,
   "metadata": {},
   "outputs": [],
   "source": [
    "def transform_link():\n",
    "    res = openai_client.completions.create(\n",
    "        model=\"gpt-3.5-turbo-instruct\",\n",
    "        prompt = \"\"\"Request:\n",
    "        Convert links into standard form e.g. https://www.accel.com/. Separate them with spaces.\n",
    "        Links: www.accel.com www.a16z.com www.greylock.com www.benchmark.com www.sequoiacap.com www.indexventures.com www.kpcb.com www.lsvp.com www.matrixpartners.com www.500.co www.sparkcapital.com www.insightpartners.com \n",
    "        Standardtized links:\n",
    "        \"\"\",\n",
    "        temperature=0,\n",
    "        max_tokens=636,\n",
    "        top_p=1,\n",
    "        frequency_penalty=0,\n",
    "        presence_penalty=0,\n",
    "        stop=None\n",
    "    )\n",
    "    return res"
   ]
  },
  {
   "cell_type": "code",
   "execution_count": 17,
   "metadata": {},
   "outputs": [],
   "source": [
    "a = transform_link()"
   ]
  },
  {
   "cell_type": "code",
   "execution_count": 23,
   "metadata": {},
   "outputs": [
    {
     "data": {
      "text/plain": [
       "' https://www.accel.com/ https://www.a16z.com/ https://www.greylock.com/ https://www.benchmark.com/ https://www.sequoiacap.com/ https://www.indexventures.com/ https://www.kpcb.com/ https://www.lsvp.com/ https://www.matrixpartners.com/ https://www.500.co/ https://www.sparkcapital.com/ https://www.insightpartners.com/'"
      ]
     },
     "execution_count": 23,
     "metadata": {},
     "output_type": "execute_result"
    }
   ],
   "source": [
    "a.choices[0].text\n",
    "text = a.choices[0].text\n",
    "text"
   ]
  },
  {
   "cell_type": "code",
   "execution_count": 24,
   "metadata": {},
   "outputs": [],
   "source": [
    "VC_list = text.split(' ')[1:] "
   ]
  },
  {
   "cell_type": "code",
   "execution_count": 26,
   "metadata": {},
   "outputs": [],
   "source": [
    "other_VCs = ['https://www.nea.com/',\n",
    "             'https://dragoneer.com/',\n",
    "             'https://deerfield.com/',\n",
    "             'https://www.khoslaventures.com/',\n",
    "             'https://www.industryventures.com/']"
   ]
  },
  {
   "cell_type": "code",
   "execution_count": 27,
   "metadata": {},
   "outputs": [],
   "source": [
    "VC_list = VC_list + other_VCs"
   ]
  },
  {
   "cell_type": "code",
   "execution_count": 28,
   "metadata": {},
   "outputs": [
    {
     "data": {
      "text/plain": [
       "['https://www.accel.com/',\n",
       " 'https://www.a16z.com/',\n",
       " 'https://www.greylock.com/',\n",
       " 'https://www.benchmark.com/',\n",
       " 'https://www.sequoiacap.com/',\n",
       " 'https://www.indexventures.com/',\n",
       " 'https://www.kpcb.com/',\n",
       " 'https://www.lsvp.com/',\n",
       " 'https://www.matrixpartners.com/',\n",
       " 'https://www.500.co/',\n",
       " 'https://www.sparkcapital.com/',\n",
       " 'https://www.insightpartners.com/',\n",
       " 'https://www.nea.com/',\n",
       " 'https://dragoneer.com/',\n",
       " 'https://deerfield.com/',\n",
       " 'https://www.khoslaventures.com/',\n",
       " 'https://www.industryventures.com/']"
      ]
     },
     "execution_count": 28,
     "metadata": {},
     "output_type": "execute_result"
    }
   ],
   "source": [
    "VC_list"
   ]
  },
  {
   "cell_type": "code",
   "execution_count": 30,
   "metadata": {},
   "outputs": [],
   "source": [
    "def find_info(text):\n",
    "    messages = []\n",
    "    messages.append({\"role\": \"system\", \"content\": \"Find information about VC. Find VC name, contacts, industries that they invest in, investment rounds that they participate/lead. Don't make assumptions.\"})\n",
    "    messages.append({\"role\": \"user\", \"content\": text})\n",
    "    chat_response = openai_client.chat.completions.create(\n",
    "        model=\"gpt-4-turbo\", #use gpt4 because this is one time use per company, and quality is over the price\n",
    "        messages=messages,\n",
    "        # stream=True,\n",
    "        tools = [{\"type\": \"function\",\"function\": {\"name\": \"get_vc_info\",\"description\": \"Extracts detailed information about a Venture Capital firm from given text. Fill only if values are present.\",\"parameters\": {\"type\": \"object\",\"properties\": {\"name\": {\"type\": \"string\",\"description\": \"Name of the Venture Capital firm, e.g., Greylock Partners.\"},\"contacts\": {\"type\": \"array\",\"items\": {\"type\": \"string\"},\"description\": \"Contact information, e.g., phone : +48540234, email: myemail@mail.com, LinkedIn. : linkedin.com/username. KEEP THE FROMAT FROM EXAMPLE\"},\"investment_industries\": {\"type\": \"array\",\"items\": {\"type\": \"string\"},\"description\": \"List of industries that the company invests in.\"},\"investment_rounds\": {\"type\": \"array\",\"items\": {\"type\": \"string\"},\"description\": \"List of investment rounds that they participate/lead.\"}}}}}],\n",
    "        tool_choice={\"type\": \"function\",\"function\": {\"name\": \"get_vc_info\",\"description\": \"Extracts detailed information about a Venture Capital firm from given text. Fill only if values are present.\",\"parameters\": {\"type\": \"object\",\"properties\": {\"name\": {\"type\": \"string\",\"description\": \"Name of the Venture Capital firm, e.g., Greylock Partners.\"},\"contacts\": {\"type\": \"array\",\"items\": {\"type\": \"string\"},\"description\": \"Contact information, e.g., phone : +48540234, email: myemail@mail.com, LinkedIn. : linkedin.com/username. KEEP THE FORMAT FROM EXAMPLE\"},\"investment_industries\": {\"type\": \"array\",\"items\": {\"type\": \"string\"},\"description\": \"List of industries that the company invests in.\"},\"investment_rounds\": {\"type\": \"array\",\"items\": {\"type\": \"string\"},\"description\": \"List of investment rounds that they participate/lead.\"}}}}}\n",
    "        )\n",
    "    return chat_response"
   ]
  },
  {
   "cell_type": "code",
   "execution_count": 43,
   "metadata": {},
   "outputs": [],
   "source": [
    "VC_text, _ = func.get_text_links(VC_list[0])"
   ]
  },
  {
   "cell_type": "code",
   "execution_count": 31,
   "metadata": {},
   "outputs": [],
   "source": [
    "info_resp = find_info(VC_text)"
   ]
  },
  {
   "cell_type": "code",
   "execution_count": 32,
   "metadata": {},
   "outputs": [
    {
     "data": {
      "text/plain": [
       "'{\"name\":\"Accel\",\"investment_rounds\":[\"Series A\",\"Series B\",\"Series C\",\"Series D\",\"Series E\",\"IPO\",\"Initial Investment\",\"Follow-on\",\"Acquired\"],\"investment_industries\":[\"AI enabled digital transformation\",\"AI-powered document processing\",\"Non-human identity security\",\"No-code computer vision\",\"Enterprise digital intelligence\",\"Third-Party API Security\"]}'"
      ]
     },
     "execution_count": 32,
     "metadata": {},
     "output_type": "execute_result"
    }
   ],
   "source": [
    "info_resp.choices[0].message.tool_calls[0].function.arguments"
   ]
  },
  {
   "cell_type": "code",
   "execution_count": 35,
   "metadata": {},
   "outputs": [
    {
     "data": {
      "text/plain": [
       "{'name': 'Accel',\n",
       " 'investment_rounds': ['Series A',\n",
       "  'Series B',\n",
       "  'Series C',\n",
       "  'Series D',\n",
       "  'Series E',\n",
       "  'IPO',\n",
       "  'Initial Investment',\n",
       "  'Follow-on',\n",
       "  'Acquired'],\n",
       " 'investment_industries': ['AI enabled digital transformation',\n",
       "  'AI-powered document processing',\n",
       "  'Non-human identity security',\n",
       "  'No-code computer vision',\n",
       "  'Enterprise digital intelligence',\n",
       "  'Third-Party API Security']}"
      ]
     },
     "execution_count": 35,
     "metadata": {},
     "output_type": "execute_result"
    }
   ],
   "source": [
    "json.loads(info_resp.choices[0].message.tool_calls[0].function.arguments)"
   ]
  },
  {
   "cell_type": "markdown",
   "metadata": {},
   "source": [
    "### Let's check how each model performes on text description creation and find similarity"
   ]
  },
  {
   "cell_type": "code",
   "execution_count": 42,
   "metadata": {},
   "outputs": [],
   "source": [
    "def write_description(text,model):\n",
    "    messages = []\n",
    "    messages.append({\"role\": \"system\", \"content\": \"Write a description of VC company based on given text\"})\n",
    "    messages.append({\"role\": \"user\", \"content\": text})\n",
    "    chat_response = openai_client.chat.completions.create(\n",
    "        model=model,\n",
    "        messages=messages\n",
    "        max_tokens=8000\n",
    "        )\n",
    "    return chat_response"
   ]
  },
  {
   "cell_type": "code",
   "execution_count": 45,
   "metadata": {},
   "outputs": [],
   "source": [
    "gpt4_desc = write_description(VC_text, 'gpt-4-turbo')\n",
    "gpt35_desc = write_description(VC_text, 'gpt-3.5-turbo')"
   ]
  },
  {
   "cell_type": "code",
   "execution_count": 53,
   "metadata": {},
   "outputs": [],
   "source": [
    "gpt4_txt = gpt4_desc.choices[0].message.content"
   ]
  },
  {
   "cell_type": "code",
   "execution_count": 54,
   "metadata": {},
   "outputs": [],
   "source": [
    "gpt35_txt = gpt35_desc.choices[0].message.content"
   ]
  },
  {
   "cell_type": "code",
   "execution_count": 49,
   "metadata": {},
   "outputs": [],
   "source": [
    "def get_embeddings(articles, model=\"text-embedding-3-small\"):\n",
    "   return openai_client.embeddings.create(input = articles, model=model)"
   ]
  },
  {
   "cell_type": "code",
   "execution_count": 51,
   "metadata": {},
   "outputs": [
    {
     "name": "stdout",
     "output_type": "stream",
     "text": [
      "Cosine similarity: 0.9746318461970762\n"
     ]
    }
   ],
   "source": [
    "def cosine_similarity(vec1, vec2):\n",
    "    \"\"\"Calculate the cosine similarity between two vectors.\"\"\"\n",
    "    dot_product = np.dot(vec1, vec2)\n",
    "    norm_vec1 = np.linalg.norm(vec1)\n",
    "    norm_vec2 = np.linalg.norm(vec2)\n",
    "    return dot_product / (norm_vec1 * norm_vec2)"
   ]
  },
  {
   "cell_type": "code",
   "execution_count": 55,
   "metadata": {},
   "outputs": [],
   "source": [
    "gpt4_embed = get_embeddings(gpt4_txt)\n",
    "gpt35_embed = get_embeddings(gpt35_txt)"
   ]
  },
  {
   "cell_type": "code",
   "execution_count": 59,
   "metadata": {},
   "outputs": [
    {
     "data": {
      "text/plain": [
       "0.8824363652298336"
      ]
     },
     "execution_count": 59,
     "metadata": {},
     "output_type": "execute_result"
    }
   ],
   "source": [
    "cosine_similarity(gpt4_embed.data[0].embedding,gpt35_embed.data[0].embedding)"
   ]
  },
  {
   "cell_type": "markdown",
   "metadata": {},
   "source": [
    "As can be seen, cosine similartiy between embedding of description created by gpt3.5 and gpt4 are quite high. However, gpt4 it time consuming. Here gpt4 is going to be used for higher quality text. When doing search, if the company is unknown, description of gpt3.5 is going to be used for time efficiency, but description by gpt4 is going to be generated in the background and it is going to be embedded and stored in the DB and VC records JSON"
   ]
  },
  {
   "cell_type": "markdown",
   "metadata": {},
   "source": [
    "<h4>Now creating a json object where information gathered from VC website will be stored. This is done for few reasons</h4>\n",
    "<p>1. To avoid generating info each time</p>\n",
    "<p>2. To be able to find the information based on link, because pinecone does not provide ability to fetch by metadata (only filter, which doesn't satisfy this task)</p>"
   ]
  },
  {
   "cell_type": "code",
   "execution_count": 69,
   "metadata": {},
   "outputs": [],
   "source": [
    "VC_record = []"
   ]
  },
  {
   "cell_type": "code",
   "execution_count": 70,
   "metadata": {},
   "outputs": [
    {
     "name": "stderr",
     "output_type": "stream",
     "text": [
      "Processing VC links: 100%|██████████| 17/17 [05:03<00:00, 17.83s/it]\n"
     ]
    }
   ],
   "source": [
    "for i, VC_link in enumerate(tqdm(VC_list, desc=\"Processing VC links\")):\n",
    "    VC_text, _ = func.get_text_links(VC_link)\n",
    "    VC_desc = write_description(VC_text, \"gpt-4-turbo\")\n",
    "    VC_desc = VC_desc.choices[0].message.content\n",
    "    VC_info = func.find_info(VC_text)\n",
    "    VC_info = json.loads(VC_info.choices[0].message.tool_calls[0].function.arguments)\n",
    "    VC = {\"id\": i+1, \"link\": VC_link, \"description\": VC_desc, \"info\": VC_info}\n",
    "    VC_record.append(VC)"
   ]
  },
  {
   "cell_type": "code",
   "execution_count": 86,
   "metadata": {},
   "outputs": [],
   "source": [
    "with open(\"VC_record.json\", \"w\") as json_file:\n",
    "    json.dump(VC_record, json_file, indent=4)"
   ]
  },
  {
   "cell_type": "markdown",
   "metadata": {},
   "source": [
    "# JSON file successfully filled with initial data. All future requests that will be unknown, will also be stored in json"
   ]
  },
  {
   "cell_type": "markdown",
   "metadata": {},
   "source": [
    "# Create description embeddings and store into Pinecone index"
   ]
  },
  {
   "cell_type": "code",
   "execution_count": 102,
   "metadata": {},
   "outputs": [],
   "source": [
    "embeddings = []"
   ]
  },
  {
   "cell_type": "code",
   "execution_count": 106,
   "metadata": {},
   "outputs": [],
   "source": [
    "embeddings = [get_embeddings(i['description']) for i in VC_record]"
   ]
  },
  {
   "cell_type": "code",
   "execution_count": 112,
   "metadata": {},
   "outputs": [],
   "source": [
    "embeddings = [i.data[0].embedding for i in embeddings]"
   ]
  },
  {
   "cell_type": "code",
   "execution_count": 118,
   "metadata": {},
   "outputs": [],
   "source": [
    "data = []"
   ]
  },
  {
   "cell_type": "code",
   "execution_count": 135,
   "metadata": {},
   "outputs": [
    {
     "name": "stderr",
     "output_type": "stream",
     "text": [
      "Upserting embeddings: 100%|██████████| 17/17 [00:00<?, ?it/s]\n"
     ]
    },
    {
     "data": {
      "text/plain": [
       "{'upserted_count': 17}"
      ]
     },
     "execution_count": 135,
     "metadata": {},
     "output_type": "execute_result"
    }
   ],
   "source": [
    "data = []\n",
    "for i, embedding in enumerate(tqdm.tqdm(embeddings, desc=\"Upserting embeddings\")):\n",
    "    meta = VC_record[i]['info']\n",
    "    data.append({'id': str(VC_record[i]['id']),  # Convert ID to string\n",
    "                 'values': embedding,\n",
    "                 'metadata': meta})\n",
    "index.upsert(data)"
   ]
  }
 ],
 "metadata": {
  "kernelspec": {
   "display_name": ".venv",
   "language": "python",
   "name": "python3"
  },
  "language_info": {
   "codemirror_mode": {
    "name": "ipython",
    "version": 3
   },
   "file_extension": ".py",
   "mimetype": "text/x-python",
   "name": "python",
   "nbconvert_exporter": "python",
   "pygments_lexer": "ipython3",
   "version": "3.12.3"
  }
 },
 "nbformat": 4,
 "nbformat_minor": 2
}
